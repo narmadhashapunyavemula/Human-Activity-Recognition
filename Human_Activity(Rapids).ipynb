{
  "nbformat": 4,
  "nbformat_minor": 0,
  "metadata": {
    "colab": {
      "name": "Human Activity(Rapids).ipynb",
      "private_outputs": true,
      "provenance": [],
      "collapsed_sections": []
    },
    "kernelspec": {
      "name": "python3",
      "display_name": "Python 3"
    },
    "language_info": {
      "name": "python"
    },
    "accelerator": "GPU"
  },
  "cells": [
    {
      "cell_type": "code",
      "metadata": {
        "id": "iIHMcXZjHcgQ"
      },
      "source": [
        "# Install RAPIDS\n",
        "!git clone https://github.com/rapidsai/rapidsai-csp-utils.git\n",
        "!bash rapidsai-csp-utils/colab/rapids-colab.sh stable\n",
        "\n",
        "import sys, os\n",
        "\n",
        "dist_package_index = sys.path.index('/usr/local/lib/python3.7/dist-packages')\n",
        "sys.path = sys.path[:dist_package_index] + ['/usr/local/lib/python3.7/site-packages'] + sys.path[dist_package_index:]\n",
        "sys.path\n",
        "exec(open('rapidsai-csp-utils/colab/update_modules.py').read(), globals())"
      ],
      "execution_count": null,
      "outputs": []
    },
    {
      "cell_type": "code",
      "metadata": {
        "id": "hKUOvHZ9JMjh"
      },
      "source": [
        "import numpy as np\n",
        "import pandas as pd\n",
        "import seaborn as sns\n",
        "import matplotlib.pyplot as plt\n",
        "import tqdm"
      ],
      "execution_count": null,
      "outputs": []
    },
    {
      "cell_type": "code",
      "metadata": {
        "id": "438kP5GqNz5p"
      },
      "source": [
        "%%time\n",
        "pd_train = pd.read_csv(\"/content/drive/MyDrive/Human Activity Recognition/train.csv\")\n",
        "pd_test = pd.read_csv(\"/content/drive/MyDrive/Human Activity Recognition/train.csv\")"
      ],
      "execution_count": null,
      "outputs": []
    },
    {
      "cell_type": "code",
      "metadata": {
        "id": "pg_AmoTaPHJA"
      },
      "source": [
        "pd_train.head()"
      ],
      "execution_count": null,
      "outputs": []
    },
    {
      "cell_type": "code",
      "metadata": {
        "id": "wxlvNEimPNHi"
      },
      "source": [
        "pd_test.head()"
      ],
      "execution_count": null,
      "outputs": []
    },
    {
      "cell_type": "code",
      "metadata": {
        "id": "l-myf-24PjhG"
      },
      "source": [
        "%%time\n",
        "pd_data  = pd.concat([pd_train , pd_test])\n",
        "print(pd_data.head())\n",
        "pd_data.reset_index(inplace = True)\n",
        "pd_data.drop('index' , inplace = True, axis = 1)"
      ],
      "execution_count": null,
      "outputs": []
    },
    {
      "cell_type": "code",
      "metadata": {
        "id": "1maeRgO0PqGM"
      },
      "source": [
        "pd_data.head()"
      ],
      "execution_count": null,
      "outputs": []
    },
    {
      "cell_type": "code",
      "metadata": {
        "id": "IWo93WAMPuSp"
      },
      "source": [
        "pd_data.shape"
      ],
      "execution_count": null,
      "outputs": []
    },
    {
      "cell_type": "code",
      "metadata": {
        "id": "dV4sUlVmPyH8"
      },
      "source": [
        "print(pd_data.columns)"
      ],
      "execution_count": null,
      "outputs": []
    },
    {
      "cell_type": "code",
      "metadata": {
        "id": "pxK1VtW7P2ve"
      },
      "source": [
        "y = pd_data['Activity'].copy()\n",
        "x = pd_data.iloc[:,:-1]"
      ],
      "execution_count": null,
      "outputs": []
    },
    {
      "cell_type": "code",
      "metadata": {
        "id": "-jVWPfGqP7Bj"
      },
      "source": [
        "x.head()"
      ],
      "execution_count": null,
      "outputs": []
    },
    {
      "cell_type": "code",
      "metadata": {
        "id": "T5H9-53cP_1L"
      },
      "source": [
        "columnNames = list()\n",
        "columnNames = pd_data.columns\n",
        "columnNames"
      ],
      "execution_count": null,
      "outputs": []
    },
    {
      "cell_type": "code",
      "metadata": {
        "id": "83sdmp-lQI1a"
      },
      "source": [
        "list(columnNames)"
      ],
      "execution_count": null,
      "outputs": []
    },
    {
      "cell_type": "code",
      "metadata": {
        "id": "s2PxI59OQMs_"
      },
      "source": [
        "bad_char = ['-','()','(',')',',']"
      ],
      "execution_count": null,
      "outputs": []
    },
    {
      "cell_type": "code",
      "metadata": {
        "id": "CSajBkkNQVHj"
      },
      "source": [
        "newcolumnNames = []\n",
        "for colname in columnNames:\n",
        "  newcolumnName = ''.join(i for i in colname if i not in bad_char)\n",
        "  newcolumnNames.append(newcolumnName)"
      ],
      "execution_count": null,
      "outputs": []
    },
    {
      "cell_type": "code",
      "metadata": {
        "id": "BLCZ1j2AQYmZ"
      },
      "source": [
        "list(newcolumnNames)"
      ],
      "execution_count": null,
      "outputs": []
    },
    {
      "cell_type": "code",
      "metadata": {
        "id": "w7DEiYORQbqi"
      },
      "source": [
        "\n",
        "pd_data.columns = newcolumnNames"
      ],
      "execution_count": null,
      "outputs": []
    },
    {
      "cell_type": "code",
      "metadata": {
        "id": "3gIMsd2dQkb8"
      },
      "source": [
        "pd_data.head()"
      ],
      "execution_count": null,
      "outputs": []
    },
    {
      "cell_type": "code",
      "metadata": {
        "id": "-7ybKDr_Qneg"
      },
      "source": [
        "pd_data.isnull().sum()"
      ],
      "execution_count": null,
      "outputs": []
    },
    {
      "cell_type": "code",
      "metadata": {
        "id": "V5Xw5h2nQsMK"
      },
      "source": [
        "\n",
        "%%time\n",
        "y.value_counts().plot.bar()"
      ],
      "execution_count": null,
      "outputs": []
    },
    {
      "cell_type": "code",
      "metadata": {
        "id": "xcrcgKKhQwqW"
      },
      "source": [
        "%%time\n",
        "pd_data.groupby('Activity').mean()['tBodyAccmeanX']"
      ],
      "execution_count": null,
      "outputs": []
    },
    {
      "cell_type": "code",
      "metadata": {
        "id": "K2wLf7foQ2V7"
      },
      "source": [
        "%%time\n",
        "pd_data.groupby('Activity').mean()['tBodyAccstdX']"
      ],
      "execution_count": null,
      "outputs": []
    },
    {
      "cell_type": "code",
      "metadata": {
        "id": "uWfvygBGQ6xB"
      },
      "source": [
        "%%time\n",
        "sns.set_style('whitegrid')\n",
        "plt.rcParams['font.family'] = 'Dejavu Sans'\n",
        "plt.figure(figsize=(16,10))\n",
        "plt.title(\"Data collected per person\",fontsize = 15)\n",
        "sns.countplot(x = 'subject' , hue = 'Activity', data = pd_data)\n",
        "plt.show()"
      ],
      "execution_count": null,
      "outputs": []
    },
    {
      "cell_type": "code",
      "metadata": {
        "id": "ZT-2NMZiQ_6w"
      },
      "source": [
        "%%time\n",
        "facetgrid = sns.FacetGrid(pd_data, hue = 'Activity', size = 6 , aspect =2 )\n",
        "facetgrid.map(sns.distplot,'tBodyAccMagmean', hist = False).add_legend()\n",
        "plt.annotate(\"Stationary Activities\", xy = (-0.956, 15) , xytext = (-0.9,15), size = 15, \\\n",
        "             va = 'center', ha = 'left', \\\n",
        "             arrowprops = dict(arrowstyle ='simple', connectionstyle = 'arc3,rad = 0.1'))\n",
        "plt.annotate(\"Moving Activities\", xy = (0.0, 3) , xytext = (0.0,5), size = 15, \\\n",
        "             va = 'center', ha = 'left', \\\n",
        "             arrowprops = dict(arrowstyle ='simple', connectionstyle = 'arc3,rad = 0.1'))"
      ],
      "execution_count": null,
      "outputs": []
    },
    {
      "cell_type": "code",
      "metadata": {
        "id": "-DjHLhPKRFCM"
      },
      "source": [
        "%%time\n",
        "facetgrid = sns.FacetGrid(pd_data, hue = 'Activity', size = 6 , aspect =2 )\n",
        "facetgrid.map(sns.distplot,'fBodyAccMagmean', hist = False).add_legend()\n",
        "plt.annotate(\"Stationary Activities\", xy = (-0.956, 15) , xytext = (-0.9,15), size = 15, \\\n",
        "             va = 'center', ha = 'left', \\\n",
        "             arrowprops = dict(arrowstyle ='simple', connectionstyle = 'arc3,rad = 0.1'))\n",
        "plt.annotate(\"Moving Activities\", xy = (0.0, 3) , xytext = (0.0,5), size = 15, \\\n",
        "             va = 'center', ha = 'left', \\\n",
        "             arrowprops = dict(arrowstyle ='simple', connectionstyle = 'arc3,rad = 0.1'))"
      ],
      "execution_count": null,
      "outputs": []
    },
    {
      "cell_type": "code",
      "metadata": {
        "id": "XQknjDP3RLVa"
      },
      "source": [
        "%%time\n",
        "facetgrid = sns.FacetGrid(pd_data, hue = 'Activity', size = 6 , aspect =2 )\n",
        "facetgrid.map(sns.distplot,'tBodyAccJerksma', hist = False).add_legend()\n",
        "plt.annotate(\"Stationary Activities\", xy = (-0.956, 15) , xytext = (-0.9,15), size = 15, \\\n",
        "             va = 'center', ha = 'left', \\\n",
        "             arrowprops = dict(arrowstyle ='simple', connectionstyle = 'arc3,rad = 0.1'))\n",
        "plt.annotate(\"Moving Activities\", xy = (0.0, 3) , xytext = (0.0,5), size = 15, \\\n",
        "             va = 'center', ha = 'left', \\\n",
        "             arrowprops = dict(arrowstyle ='simple', connectionstyle = 'arc3,rad = 0.1'))"
      ],
      "execution_count": null,
      "outputs": []
    },
    {
      "cell_type": "code",
      "metadata": {
        "id": "CjFEMRwwRQZv"
      },
      "source": [
        "%%time\n",
        "from sklearn.metrics import confusion_matrix, classification_report, accuracy_score"
      ],
      "execution_count": null,
      "outputs": []
    },
    {
      "cell_type": "code",
      "metadata": {
        "id": "uy8HJiWtRVly"
      },
      "source": [
        "y = y.map({'STANDING': 0, 'SITTING': 1, 'LAYING': 2, 'WALKING' : 3, 'WALKING_DOWNSTAIRS': 4, 'WALKING_UPSTAIRS': 5})"
      ],
      "execution_count": null,
      "outputs": []
    },
    {
      "cell_type": "code",
      "metadata": {
        "id": "AGVKnzAvRY0q"
      },
      "source": [
        "y.unique()"
      ],
      "execution_count": null,
      "outputs": []
    },
    {
      "cell_type": "code",
      "metadata": {
        "id": "S-1Q2o8XRgvg"
      },
      "source": [
        "print(y.shape , x.shape)"
      ],
      "execution_count": null,
      "outputs": []
    },
    {
      "cell_type": "code",
      "metadata": {
        "id": "rHhPKg8KRlAY"
      },
      "source": [
        "from sklearn.model_selection import train_test_split"
      ],
      "execution_count": null,
      "outputs": []
    },
    {
      "cell_type": "code",
      "metadata": {
        "id": "s_qbdElrRoqN"
      },
      "source": [
        "%%time\n",
        "x_train, x_test, y_train, y_test = train_test_split(x,y, test_size = 0.2 , random_state = 10)"
      ],
      "execution_count": null,
      "outputs": []
    },
    {
      "cell_type": "code",
      "metadata": {
        "id": "DMFifiBDRvKd"
      },
      "source": [
        "print(x_train.shape, x_test.shape)"
      ],
      "execution_count": null,
      "outputs": []
    },
    {
      "cell_type": "code",
      "metadata": {
        "id": "hFckc3vTRuQl"
      },
      "source": [
        "%%time \n",
        "from sklearn.linear_model import LogisticRegression"
      ],
      "execution_count": null,
      "outputs": []
    },
    {
      "cell_type": "code",
      "metadata": {
        "id": "AQsrmJnYR32Q"
      },
      "source": [
        "logreg = LogisticRegression(penalty = 'l2', solver = 'liblinear')"
      ],
      "execution_count": null,
      "outputs": []
    },
    {
      "cell_type": "code",
      "metadata": {
        "id": "bbdQPFrDR9uF"
      },
      "source": [
        "%%time\n",
        "logreg.fit(x_train,y_train)"
      ],
      "execution_count": null,
      "outputs": []
    },
    {
      "cell_type": "code",
      "metadata": {
        "id": "BJxtxUnlSBHb"
      },
      "source": [
        "\n",
        "%%time \n",
        "y_pred = logreg.predict(x_test)"
      ],
      "execution_count": null,
      "outputs": []
    },
    {
      "cell_type": "code",
      "metadata": {
        "id": "rKqqA_oMSOF2"
      },
      "source": [
        "y_pred[0:10]"
      ],
      "execution_count": null,
      "outputs": []
    },
    {
      "cell_type": "code",
      "metadata": {
        "id": "KQmHQDOvSSPp"
      },
      "source": [
        "y_test[0:10]"
      ],
      "execution_count": null,
      "outputs": []
    },
    {
      "cell_type": "code",
      "metadata": {
        "id": "u2ntzUGNSVj5"
      },
      "source": [
        "\n",
        "%%time\n",
        "accuracy_score(y_test,y_pred)"
      ],
      "execution_count": null,
      "outputs": []
    },
    {
      "cell_type": "code",
      "metadata": {
        "id": "uDC92k_XSa-S"
      },
      "source": [
        "%%time\n",
        "print(classification_report(y_test,y_pred))"
      ],
      "execution_count": null,
      "outputs": []
    },
    {
      "cell_type": "code",
      "metadata": {
        "id": "HVfLeZ_9SgeA"
      },
      "source": [
        "from sklearn.svm import SVC\n",
        "from sklearn.model_selection import GridSearchCV"
      ],
      "execution_count": null,
      "outputs": []
    },
    {
      "cell_type": "code",
      "metadata": {
        "id": "K1bJzxt0SkpB"
      },
      "source": [
        "%%time\n",
        "parameters = {\n",
        "    'kernel' : ['linear','rbf'],\n",
        "    'degree' : [2,3]\n",
        "\n",
        "}"
      ],
      "execution_count": null,
      "outputs": []
    },
    {
      "cell_type": "code",
      "metadata": {
        "id": "_wuMLQK6SoIE"
      },
      "source": [
        "%%time\n",
        "svclf = SVC(kernel= 'linear', gamma = 0.1)\n",
        "GridSVC = GridSearchCV(svclf, param_grid= parameters, n_jobs= -1)\n",
        "svclf.fit(x_train,y_train)"
      ],
      "execution_count": null,
      "outputs": []
    },
    {
      "cell_type": "code",
      "metadata": {
        "id": "v6F8gwYTSsyF"
      },
      "source": [
        "bestsvc=GridSVC.set_params"
      ],
      "execution_count": null,
      "outputs": []
    },
    {
      "cell_type": "code",
      "metadata": {
        "id": "qXFes3nDS2bf"
      },
      "source": [
        "bestsvc().fit(x_train,y_train)"
      ],
      "execution_count": null,
      "outputs": []
    },
    {
      "cell_type": "code",
      "metadata": {
        "id": "iKnxi5_EYkog"
      },
      "source": [
        "import cudf as gdf"
      ],
      "execution_count": null,
      "outputs": []
    },
    {
      "cell_type": "code",
      "metadata": {
        "id": "LgRB6WC9aAgM"
      },
      "source": [
        "%%time\n",
        "gpu_train = gdf.read_csv('/content/drive/MyDrive/Human Activity Recognition/train.csv')\n",
        "gpu_test = gdf.read_csv('/content/drive/MyDrive/Human Activity Recognition/test.csv')"
      ],
      "execution_count": null,
      "outputs": []
    },
    {
      "cell_type": "code",
      "metadata": {
        "id": "T9ZwJByiaU1u"
      },
      "source": [
        "!nvidia-smi"
      ],
      "execution_count": null,
      "outputs": []
    },
    {
      "cell_type": "code",
      "metadata": {
        "id": "TAJo2lhqaYNG"
      },
      "source": [
        "from cuml.model_selection import train_test_split"
      ],
      "execution_count": null,
      "outputs": []
    },
    {
      "cell_type": "code",
      "metadata": {
        "id": "-SEzxyM8aclj"
      },
      "source": [
        "%%time\n",
        "gpu_data = gdf.concat([gpu_train,gpu_test])\n",
        "gpu_data.reset_index(inplace = True)\n",
        "gpu_data.drop('index',inplace = True , axis = 1)"
      ],
      "execution_count": null,
      "outputs": []
    },
    {
      "cell_type": "code",
      "metadata": {
        "id": "6ZUXxy1MagsK"
      },
      "source": [
        "!nvidia-smi"
      ],
      "execution_count": null,
      "outputs": []
    },
    {
      "cell_type": "code",
      "metadata": {
        "id": "n_FnlF2aallE"
      },
      "source": [
        "%%time\n",
        "\n",
        "gpu_data.groupby('Activity').mean()"
      ],
      "execution_count": null,
      "outputs": []
    },
    {
      "cell_type": "code",
      "metadata": {
        "id": "KTFVN1JFaqiO"
      },
      "source": [
        "from cuml.preprocessing import LabelEncoder"
      ],
      "execution_count": null,
      "outputs": []
    },
    {
      "cell_type": "code",
      "metadata": {
        "id": "v4bIkKbdau7M"
      },
      "source": [
        "le  = LabelEncoder()"
      ],
      "execution_count": null,
      "outputs": []
    },
    {
      "cell_type": "code",
      "metadata": {
        "id": "kyEsSgpoayux"
      },
      "source": [
        "%%time\n",
        "x_gpu = gpu_data.drop('Activity', inplace=False, axis=1)\n",
        "y_gpu = gpu_data['Activity'].copy()"
      ],
      "execution_count": null,
      "outputs": []
    },
    {
      "cell_type": "code",
      "metadata": {
        "id": "gMSaaUika254"
      },
      "source": [
        "%%time\n",
        "le.fit(y_gpu)\n",
        "encodedLabels = le.transform(y_gpu)"
      ],
      "execution_count": null,
      "outputs": []
    },
    {
      "cell_type": "code",
      "metadata": {
        "id": "1n7P1zRRa6gP"
      },
      "source": [
        "y_gpu = y_gpu.map({'STANDING':0,'SITTING':1,'LAYING':2,'WALKING':3,'WALKING_DOWNSTAIRS':4, 'WALKING_UPSTAIRS':5})"
      ],
      "execution_count": null,
      "outputs": []
    },
    {
      "cell_type": "code",
      "metadata": {
        "id": "_QLCcl5Ga_y7"
      },
      "source": [
        "x_gpu = x_gpu.drop('subject',inplace=False, axis = 1)"
      ],
      "execution_count": null,
      "outputs": []
    },
    {
      "cell_type": "code",
      "metadata": {
        "id": "v92S07axbDF-"
      },
      "source": [
        "%%time \n",
        "x_train_gpu,x_test_gpu,y_train_gpu,y_test_gpu = train_test_split(x_gpu, y_gpu , test_size  = 0.2 , random_state = 12)"
      ],
      "execution_count": null,
      "outputs": []
    },
    {
      "cell_type": "code",
      "metadata": {
        "id": "ixCsDb_ybG19"
      },
      "source": [
        "import cupy as cup # here this is a replacement for numpy"
      ],
      "execution_count": null,
      "outputs": []
    },
    {
      "cell_type": "code",
      "metadata": {
        "id": "dk_hSKLFbLfu"
      },
      "source": [
        "cup.random.seed(10)\n",
        "y_pred_gpu = cup.random.randint(low = 0 , high = 8)"
      ],
      "execution_count": null,
      "outputs": []
    },
    {
      "cell_type": "code",
      "metadata": {
        "id": "6x-teQfSbOtM"
      },
      "source": [
        "from cuml.linear_model import LogisticRegression"
      ],
      "execution_count": null,
      "outputs": []
    },
    {
      "cell_type": "code",
      "metadata": {
        "id": "WEPxEfbObSKE"
      },
      "source": [
        "%%time\n",
        "gpu_log = LogisticRegression(solver='qn')"
      ],
      "execution_count": null,
      "outputs": []
    },
    {
      "cell_type": "code",
      "metadata": {
        "id": "XN01TxinbWii"
      },
      "source": [
        "%%time\n",
        "gpu_log.fit(x_train_gpu,y_train_gpu)"
      ],
      "execution_count": null,
      "outputs": []
    },
    {
      "cell_type": "code",
      "metadata": {
        "id": "ev1MDyQ4bbKZ"
      },
      "source": [
        "%%time\n",
        "from cuml.svm import SVC \n",
        "from cuml.model_selection import GridSearchCV"
      ],
      "execution_count": null,
      "outputs": []
    },
    {
      "cell_type": "code",
      "metadata": {
        "id": "kg6pNVoGbgxg"
      },
      "source": [
        "%%time\n",
        "parameters = {\n",
        "    'kernel' : ['linear','rbf'],\n",
        "    'degree' : [2,3]\n",
        "\n",
        "}"
      ],
      "execution_count": null,
      "outputs": []
    },
    {
      "cell_type": "code",
      "metadata": {
        "id": "IPFUU4Lcbj2d"
      },
      "source": [
        "%%time\n",
        "svc_gpu  = SVC(kernel= 'linear',gamma=0.1)"
      ],
      "execution_count": null,
      "outputs": []
    },
    {
      "cell_type": "code",
      "metadata": {
        "id": "IcDlFzHEbqhH"
      },
      "source": [
        "%%time\n",
        "svc_gpu.fit(x_train_gpu,y_train_gpu)"
      ],
      "execution_count": null,
      "outputs": []
    },
    {
      "cell_type": "code",
      "metadata": {
        "id": "8ZuVZ0idbvFx"
      },
      "source": [
        "%%time\n",
        "y_pred_gpu = svc_gpu.predict(x_test_gpu)"
      ],
      "execution_count": null,
      "outputs": []
    },
    {
      "cell_type": "code",
      "metadata": {
        "id": "zkIATILObzck"
      },
      "source": [
        "%%time\n",
        "y_pred_gpu_1 = gpu_log.predict(x_test_gpu)"
      ],
      "execution_count": null,
      "outputs": []
    },
    {
      "cell_type": "code",
      "metadata": {
        "id": "3fqD4dvKb5Nf"
      },
      "source": [
        "from cuml.metrics import confusion_matrix, accuracy_score"
      ],
      "execution_count": null,
      "outputs": []
    },
    {
      "cell_type": "code",
      "metadata": {
        "id": "delHsIC4b9s_"
      },
      "source": [
        "%%time\n",
        "confusion_matrix(y_test_gpu,y_pred_gpu)"
      ],
      "execution_count": null,
      "outputs": []
    },
    {
      "cell_type": "code",
      "metadata": {
        "id": "2oslAt2wcDT8"
      },
      "source": [
        "%%time\n",
        "confusion_matrix(y_test_gpu,y_pred_gpu_1)"
      ],
      "execution_count": null,
      "outputs": []
    },
    {
      "cell_type": "code",
      "metadata": {
        "id": "WyBAEPlScILp"
      },
      "source": [
        "%%time\n",
        "print(accuracy_score(y_test_gpu,y_pred_gpu))\n",
        "print(accuracy_score(y_test_gpu,y_pred_gpu_1))"
      ],
      "execution_count": null,
      "outputs": []
    }
  ]
}